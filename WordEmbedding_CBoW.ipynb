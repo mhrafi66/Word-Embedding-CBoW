{
  "cells": [
    {
      "cell_type": "code",
      "execution_count": 1,
      "metadata": {
        "colab": {
          "base_uri": "https://localhost:8080/"
        },
        "id": "pdIGuR1nBDkW",
        "outputId": "c64b33b6-3017-439f-e45f-20980ac612e3"
      },
      "outputs": [
        {
          "output_type": "stream",
          "name": "stdout",
          "text": [
            "Mounted at /content/drive\n",
            "mp1_release/\n",
            "mp1_release/vocab.txt\n",
            "mp1_release/scripts/\n",
            "mp1_release/scripts/utils.py\n",
            "mp1_release/scripts/eval_embs.py\n",
            "mp1_release/data/\n",
            "mp1_release/data/dev/\n",
            "mp1_release/data/dev/PG60617_tokens.txt\n",
            "mp1_release/data/dev/PG62614_tokens.txt\n",
            "mp1_release/data/dev/PG60618_tokens.txt\n",
            "mp1_release/data/dev/PG69618_tokens.txt\n",
            "mp1_release/data/dev/PG65613_tokens.txt\n",
            "mp1_release/data/train/\n",
            "mp1_release/data/train/PG49614_tokens.txt\n",
            "mp1_release/data/train/PG65616_tokens.txt\n",
            "mp1_release/data/train/PG16617_tokens.txt\n",
            "mp1_release/data/train/PG58613_tokens.txt\n",
            "mp1_release/data/train/PG38612_tokens.txt\n",
            "mp1_release/data/train/PG51612_tokens.txt\n",
            "mp1_release/data/train/PG54617_tokens.txt\n",
            "mp1_release/data/train/PG48615_tokens.txt\n",
            "mp1_release/data/train/PG53613_tokens.txt\n",
            "mp1_release/data/train/PG55618_tokens.txt\n",
            "mp1_release/data/train/PG59614_tokens.txt\n",
            "mp1_release/data/train/PG50619_tokens.txt\n",
            "mp1_release/data/train/PG66610_tokens.txt\n",
            "mp1_release/data/train/PG54618_tokens.txt\n",
            "mp1_release/data/train/PG66618_tokens.txt\n",
            "mp1_release/data/train/PG57617_tokens.txt\n",
            "mp1_release/data/train/PG35617_tokens.txt\n",
            "mp1_release/data/train/PG53619_tokens.txt\n",
            "mp1_release/data/train/PG62610_tokens.txt\n",
            "mp1_release/data/train/PG55613_tokens.txt\n",
            "mp1_release/data/train/PG45612_tokens.txt\n",
            "mp1_release/data/train/PG57619_tokens.txt\n",
            "mp1_release/data/train/PG64619_tokens.txt\n",
            "mp1_release/data/train/PG51613_tokens.txt\n",
            "mp1_release/data/train/PG60613_tokens.txt\n",
            "mp1_release/data/train/PG67617_tokens.txt\n",
            "mp1_release/data/train/PG67615_tokens.txt\n",
            "mp1_release/data/train/PG54616_tokens.txt\n",
            "mp1_release/data/train/PG47615_tokens.txt\n",
            "mp1_release/data/train/PG52616_tokens.txt\n",
            "mp1_release/test_files/\n",
            "mp1_release/test_files/wordsim_similarity_goldstandard.txt\n",
            "mp1_release/test_files/questions-words_headered.txt\n"
          ]
        }
      ],
      "source": [
        "from google.colab import drive\n",
        "drive.mount('/content/drive')\n",
        "\n",
        "!tar -xvf \"/content/drive/MyDrive/NLPwithDeepLearning/Assignment-1/mp1_release.tar.gz\" -C \"/content/drive/MyDrive/NLPwithDeepLearning/Assignment-1\""
      ]
    },
    {
      "cell_type": "code",
      "execution_count": 2,
      "metadata": {
        "id": "k7kcuPfzNvhi",
        "colab": {
          "base_uri": "https://localhost:8080/"
        },
        "outputId": "00e46b22-cb45-4190-f50b-9cac5deeb6d0"
      },
      "outputs": [
        {
          "output_type": "execute_result",
          "data": {
            "text/plain": [
              "<torch._C.Generator at 0x7daf8cb891d0>"
            ]
          },
          "metadata": {},
          "execution_count": 2
        }
      ],
      "source": [
        "import torch\n",
        "import torch.nn as nn\n",
        "import numpy as np\n",
        "import matplotlib.pyplot as plt\n",
        "\n",
        "!cp /content/drive/MyDrive/NLPwithDeepLearning/Assignment-1/mp1_release/scripts/eval_embs.py /content/\n",
        "!cp /content/drive/MyDrive/NLPwithDeepLearning/Assignment-1/mp1_release/scripts/utils.py /content/\n",
        "\n",
        "from eval_embs import get_eval_stats\n",
        "\n",
        "from utils import get_word2ix, get_files, process_data\n",
        "torch.manual_seed(66)"
      ]
    },
    {
      "cell_type": "code",
      "execution_count": 3,
      "metadata": {
        "id": "zbn1_vpfTtFl"
      },
      "outputs": [],
      "source": [
        "word2ix = get_word2ix(path=\"/content/drive/MyDrive/NLPwithDeepLearning/Assignment-1/mp1_release/vocab.txt\")\n",
        "\n",
        "train_files = get_files(path=\"/content/drive/MyDrive/NLPwithDeepLearning/Assignment-1/mp1_release/data/train/\")\n",
        "dev_files = get_files(path=\"/content/drive/MyDrive/NLPwithDeepLearning/Assignment-1/mp1_release/data/dev/\")\n",
        "\n",
        "processed_train_data = process_data(train_files, 5, word2ix)\n",
        "processed_dev_data = process_data(dev_files, 5, word2ix)"
      ]
    },
    {
      "cell_type": "code",
      "execution_count": 4,
      "metadata": {
        "id": "hVuWbKJwTtCE",
        "colab": {
          "base_uri": "https://localhost:8080/"
        },
        "outputId": "5b45c4e9-c444-40b8-a6b7-0a283db4dde6"
      },
      "outputs": [
        {
          "output_type": "stream",
          "name": "stdout",
          "text": [
            "(1860640, 10) (1860640,)\n"
          ]
        }
      ],
      "source": [
        "def create_input_output(dataset, window):\n",
        "  X = []\n",
        "  Y = []\n",
        "  for files in dataset:\n",
        "    for index, word in enumerate(files):\n",
        "      if index-window < 0 or index+window >= len(files):\n",
        "        continue\n",
        "      temp_x = []\n",
        "      for j in range(index-window, index+window+1):\n",
        "        if(j != index):\n",
        "          temp_x.append(files[j])\n",
        "      temp_target = word\n",
        "      X.append(temp_x)\n",
        "      Y.append(temp_target)\n",
        "  return np.array(X), np.array(Y)\n",
        "\n",
        "X_train, y_train = create_input_output(processed_train_data, 5)\n",
        "X_dev, y_dev = create_input_output(processed_dev_data, 5)\n",
        "\n",
        "print(X_train.shape, y_train.shape)"
      ]
    },
    {
      "cell_type": "code",
      "execution_count": 5,
      "metadata": {
        "id": "4N6v20Ttchgs"
      },
      "outputs": [],
      "source": [
        "from torch.utils.data import Dataset, DataLoader\n",
        "\n",
        "X_train = torch.tensor(X_train)\n",
        "y_train = torch.tensor(y_train)\n",
        "X_dev = torch.tensor(X_dev)\n",
        "y_dev = torch.tensor(y_dev)\n",
        "\n",
        "train_dataloader = DataLoader(list(zip(X_train,y_train)), shuffle=True, batch_size=64)\n",
        "dev_dataloader = DataLoader(list(zip(X_train,y_train)), shuffle=True, batch_size=64)"
      ]
    },
    {
      "cell_type": "code",
      "execution_count": 6,
      "metadata": {
        "id": "iqYJ06NKchda"
      },
      "outputs": [],
      "source": [
        "class CBOW_Model(nn.Module):\n",
        "  def __init__(self, vocab_size, embedding_dimension, embed_max_norm):\n",
        "    # , embed_max_norm\n",
        "    super(CBOW_Model, self).__init__()\n",
        "    self.embeddings = nn.Embedding(\n",
        "        num_embeddings= vocab_size,\n",
        "        embedding_dim= embedding_dimension,\n",
        "        max_norm= embed_max_norm,\n",
        "        )\n",
        "    self.linear = nn.Linear(\n",
        "        in_features= embedding_dimension,\n",
        "        out_features= vocab_size,\n",
        "        )\n",
        "  def forward(self, inputs_):\n",
        "    x = self.embeddings(inputs_)\n",
        "    x = x.mean(axis=1)\n",
        "    x = self.linear(x)\n",
        "    return x"
      ]
    },
    {
      "cell_type": "code",
      "execution_count": 7,
      "metadata": {
        "colab": {
          "base_uri": "https://localhost:8080/"
        },
        "id": "RWn_liUTual-",
        "outputId": "dc86a7dc-1d23-4a30-899c-68b3044b5a72"
      },
      "outputs": [
        {
          "output_type": "stream",
          "name": "stdout",
          "text": [
            "cuda:0\n"
          ]
        }
      ],
      "source": [
        "device = torch.device(\"cuda:0\" if torch.cuda.is_available() else \"cpu\")\n",
        "print(device)"
      ]
    },
    {
      "cell_type": "code",
      "execution_count": 8,
      "metadata": {
        "id": "k5aNl6T6nyeQ"
      },
      "outputs": [],
      "source": [
        "def batch_gd(model, criterion, optimizer, train_loader, dev_loader, epochs = 10):\n",
        "  train_losses = np.zeros(epochs)\n",
        "  dev_losses = np.zeros(epochs)\n",
        "\n",
        "  for i in range(epochs):\n",
        "    train_loss = []\n",
        "    for inputs, targets in train_loader:\n",
        "      inputs, targets = inputs.to(device), targets.to(device)\n",
        "      optimizer.zero_grad()\n",
        "      outputs = model(inputs)\n",
        "      loss = criterion(outputs, targets)\n",
        "      # outputs = outputs.to('cpu')\n",
        "      # outputs = outputs.detach().numpy()\n",
        "      # outputs = np.argmax(outputs, axis = 1)\n",
        "      # print(\"outputs=\",outputs)\n",
        "      # print(\"Targets=\",targets)\n",
        "\n",
        "      loss.backward()\n",
        "      optimizer.step()\n",
        "\n",
        "      train_loss.append(loss.item())\n",
        "    train_loss = np.mean(train_loss)\n",
        "\n",
        "    dev_loss = []\n",
        "    for inputs, targets in dev_loader:\n",
        "      inputs, targets = inputs.to(device), targets.to(device)\n",
        "      outputs = model(inputs)\n",
        "      loss = criterion(outputs, targets)\n",
        "\n",
        "      dev_loss.append(loss.item())\n",
        "    dev_loss = np.mean(dev_loss)\n",
        "\n",
        "    train_losses[i] = train_loss\n",
        "    dev_losses[i] = dev_loss\n",
        "\n",
        "    print(f'Epoch {i+1}/{epochs}, Train Loss: {train_loss:.4f},\\\n",
        "        Dev Loss: {dev_loss:.4f}')\n",
        "\n",
        "  return train_losses, dev_losses, model\n"
      ]
    },
    {
      "cell_type": "code",
      "execution_count": 20,
      "metadata": {
        "colab": {
          "base_uri": "https://localhost:8080/",
          "height": 1000
        },
        "id": "dKcydmvkchaM",
        "outputId": "97b79a24-b84f-46d6-82ad-31ccddb4e024"
      },
      "outputs": [
        {
          "output_type": "stream",
          "name": "stdout",
          "text": [
            "For learning rate =  0.1\n",
            "Epoch 1/10, Train Loss: 7.1272,        Dev Loss: 7.0485\n",
            "Epoch 2/10, Train Loss: 7.1175,        Dev Loss: 7.0719\n",
            "Epoch 3/10, Train Loss: 7.1117,        Dev Loss: 7.0873\n",
            "Epoch 4/10, Train Loss: 7.1102,        Dev Loss: 7.0230\n",
            "Epoch 5/10, Train Loss: 7.1095,        Dev Loss: 7.0619\n",
            "Epoch 6/10, Train Loss: 7.1104,        Dev Loss: 7.0810\n",
            "Epoch 7/10, Train Loss: 7.1104,        Dev Loss: 7.0628\n",
            "Epoch 8/10, Train Loss: 7.1100,        Dev Loss: 7.0653\n",
            "Epoch 9/10, Train Loss: 7.1111,        Dev Loss: 7.0837\n",
            "Epoch 10/10, Train Loss: 7.1114,        Dev Loss: 7.0619\n",
            "Best Development Loss =  7.064719019373089\n"
          ]
        },
        {
          "output_type": "display_data",
          "data": {
            "text/plain": [
              "<Figure size 640x480 with 1 Axes>"
            ],
            "image/png": "[encoded data removed]"
          },
          "metadata": {}
        },
        {
          "output_type": "stream",
          "name": "stdout",
          "text": [
            "For learning rate =  0.01\n",
            "Epoch 1/10, Train Loss: 6.4070,        Dev Loss: 6.2202\n",
            "Epoch 2/10, Train Loss: 6.2541,        Dev Loss: 6.1701\n",
            "Epoch 3/10, Train Loss: 6.2224,        Dev Loss: 6.1382\n",
            "Epoch 4/10, Train Loss: 6.2050,        Dev Loss: 6.1256\n",
            "Epoch 5/10, Train Loss: 6.1935,        Dev Loss: 6.1160\n",
            "Epoch 6/10, Train Loss: 6.1855,        Dev Loss: 6.1112\n",
            "Epoch 7/10, Train Loss: 6.1789,        Dev Loss: 6.1013\n",
            "Epoch 8/10, Train Loss: 6.1747,        Dev Loss: 6.0994\n",
            "Epoch 9/10, Train Loss: 6.1716,        Dev Loss: 6.0986\n",
            "Epoch 10/10, Train Loss: 6.1691,        Dev Loss: 6.0935\n",
            "Best Development Loss =  6.127415266533293\n"
          ]
        },
        {
          "output_type": "display_data",
          "data": {
            "text/plain": [
              "<Figure size 640x480 with 1 Axes>"
            ],
            "image/png": "[encoded data removed]"
          },
          "metadata": {}
        },
        {
          "output_type": "stream",
          "name": "stdout",
          "text": [
            "For learning rate =  0.001\n",
            "Epoch 1/10, Train Loss: 6.4652,        Dev Loss: 6.1790\n",
            "Epoch 2/10, Train Loss: 6.1510,        Dev Loss: 6.0195\n",
            "Epoch 3/10, Train Loss: 6.0427,        Dev Loss: 5.9242\n",
            "Epoch 4/10, Train Loss: 5.9708,        Dev Loss: 5.8517\n",
            "Epoch 5/10, Train Loss: 5.9148,        Dev Loss: 5.7952\n",
            "Epoch 6/10, Train Loss: 5.8700,        Dev Loss: 5.7489\n",
            "Epoch 7/10, Train Loss: 5.8322,        Dev Loss: 5.7073\n",
            "Epoch 8/10, Train Loss: 5.7986,        Dev Loss: 5.6701\n",
            "Epoch 9/10, Train Loss: 5.7687,        Dev Loss: 5.6365\n",
            "Epoch 10/10, Train Loss: 5.7421,        Dev Loss: 5.6071\n",
            "Best Development Loss =  5.813960371861143\n"
          ]
        },
        {
          "output_type": "display_data",
          "data": {
            "text/plain": [
              "<Figure size 640x480 with 1 Axes>"
            ],
            "image/png": "[encoded data removed]"
          },
          "metadata": {}
        },
        {
          "output_type": "stream",
          "name": "stdout",
          "text": [
            "For learning rate =  0.0001\n",
            "Epoch 1/10, Train Loss: 7.0822,        Dev Loss: 6.6403\n",
            "Epoch 2/10, Train Loss: 6.5635,        Dev Loss: 6.4848\n",
            "Epoch 3/10, Train Loss: 6.4500,        Dev Loss: 6.3989\n",
            "Epoch 4/10, Train Loss: 6.3781,        Dev Loss: 6.3368\n",
            "Epoch 5/10, Train Loss: 6.3240,        Dev Loss: 6.2885\n",
            "Epoch 6/10, Train Loss: 6.2801,        Dev Loss: 6.2477\n",
            "Epoch 7/10, Train Loss: 6.2427,        Dev Loss: 6.2121\n",
            "Epoch 8/10, Train Loss: 6.2096,        Dev Loss: 6.1804\n",
            "Epoch 9/10, Train Loss: 6.1799,        Dev Loss: 6.1515\n",
            "Epoch 10/10, Train Loss: 6.1527,        Dev Loss: 6.1254\n"
          ]
        },
        {
          "output_type": "display_data",
          "data": {
            "text/plain": [
              "<Figure size 640x480 with 1 Axes>"
            ],
            "image/png": "[encoded data removed]"
          },
          "metadata": {}
        }
      ],
      "source": [
        "learning_rates = np.array([0.1,0.01, 0.001, 0.0001])\n",
        "best_dev_loss = 0\n",
        "\n",
        "for i in range(4):\n",
        "  vocab_size = len(word2ix)\n",
        "\n",
        "  cbow_model = CBOW_Model(vocab_size=vocab_size, embedding_dimension=100, embed_max_norm = 1)\n",
        "  # , embed_max_norm = 1\n",
        "  cbow_model.to(device)\n",
        "  criterion = nn.CrossEntropyLoss()\n",
        "\n",
        "  optimizer = torch.optim.Adam(cbow_model.parameters(), lr=learning_rates[i])\n",
        "  print(\"For learning rate = \",learning_rates[i])\n",
        "\n",
        "  train_losses, dev_losses, ret_model = batch_gd(\n",
        "      cbow_model, criterion, optimizer, train_dataloader, dev_dataloader, epochs=10\n",
        "  )\n",
        "\n",
        "  # embeddings = list(ret_model.parameters())[0]\n",
        "  # print(\"Embedding:\")\n",
        "  # print(embeddings)\n",
        "\n",
        "  # print(\"Parameter Tensor\")\n",
        "  # for param_tensor in ret_model.state_dict():\n",
        "  #   print(param_tensor, \"\\t\", ret_model.state_dict()[param_tensor].size())\n",
        "\n",
        "  # print(\"Optimizer Variable\")\n",
        "  # for var_name in optimizer.state_dict():\n",
        "  #   print(var_name, \"\\t\", optimizer.state_dict()[var_name])\n",
        "  avg_dev_losses = np.mean(dev_losses)\n",
        "\n",
        "  if(i == 0):\n",
        "    best_dev_loss = avg_dev_losses\n",
        "    torch.save({\n",
        "            \"model_param\": ret_model.state_dict(),\n",
        "            \"optim_param\": optimizer.state_dict(),\n",
        "            \"lowest_dev_loss\": best_dev_loss,\n",
        "            \"learning_rate\": learning_rates[i]},\n",
        "               f\"/content/drive/MyDrive/NLPwithDeepLearning/Assignment-1/best_model.pth\")\n",
        "\n",
        "    print('Best Development Loss = ', best_dev_loss)\n",
        "  elif avg_dev_losses < best_dev_loss:\n",
        "    best_dev_loss = avg_dev_losses\n",
        "    torch.save({\n",
        "            \"model_param\": ret_model.state_dict(),\n",
        "            \"optim_param\": optimizer.state_dict(),\n",
        "            \"lowest_dev_loss\": best_dev_loss,\n",
        "            \"learning_rate\": learning_rates[i]},\n",
        "               f\"/content/drive/MyDrive/NLPwithDeepLearning/Assignment-1/best_model.pth\")\n",
        "    print('Best Development Loss = ', best_dev_loss)\n",
        "\n",
        "  plt.plot(train_losses, label = 'train_loss')\n",
        "  plt.plot(dev_losses, label = 'dev_loss')\n",
        "  plt.legend()\n",
        "  plt.show()"
      ]
    },
    {
      "cell_type": "code",
      "execution_count": 9,
      "metadata": {
        "id": "eNU1O-YYchXV",
        "colab": {
          "base_uri": "https://localhost:8080/"
        },
        "outputId": "466ab2d5-7264-40c1-91e2-aab8fb18270a"
      },
      "outputs": [
        {
          "output_type": "execute_result",
          "data": {
            "text/plain": [
              "CBOW_Model(\n",
              "  (embeddings): Embedding(18061, 100, max_norm=1)\n",
              "  (linear): Linear(in_features=100, out_features=18061, bias=True)\n",
              ")"
            ]
          },
          "metadata": {},
          "execution_count": 9
        }
      ],
      "source": [
        "vocab_size = len(word2ix)\n",
        "embedding_dimension=100\n",
        "\n",
        "model_path = \"/content/drive/MyDrive/NLPwithDeepLearning/Assignment-1/best_model.pth\"\n",
        "checkpoint = torch.load(model_path)\n",
        "cbow_model = CBOW_Model(vocab_size=vocab_size, embedding_dimension=100, embed_max_norm = 1)\n",
        "# , embed_max_norm = 1\n",
        "optimizer = torch.optim.Adam(cbow_model.parameters(), checkpoint[\"learning_rate\"])\n",
        "cbow_model.load_state_dict(checkpoint[\"model_param\"])\n",
        "optimizer.load_state_dict(checkpoint[\"optim_param\"])\n",
        "cbow_model.to(device)\n",
        "\n"
      ]
    },
    {
      "cell_type": "code",
      "execution_count": 10,
      "metadata": {
        "id": "H_K7nTnwoNr2",
        "colab": {
          "base_uri": "https://localhost:8080/"
        },
        "outputId": "b201eac4-7771-4268-e2cf-128c0001f396"
      },
      "outputs": [
        {
          "output_type": "stream",
          "name": "stdout",
          "text": [
            "0.001\n"
          ]
        }
      ],
      "source": [
        "print(checkpoint[\"learning_rate\"])"
      ]
    },
    {
      "cell_type": "code",
      "execution_count": 11,
      "metadata": {
        "id": "MJnCPjBMcVnD",
        "colab": {
          "base_uri": "https://localhost:8080/"
        },
        "outputId": "7ed3302b-438d-4682-f1f1-241148854c6e"
      },
      "outputs": [
        {
          "output_type": "stream",
          "name": "stdout",
          "text": [
            "Embedding:\n",
            "Parameter containing:\n",
            "tensor([[ 1.5994, -2.4193, -2.0430,  ..., -1.6789, -0.0558,  1.2008],\n",
            "        [-0.1417, -2.7800, -0.5788,  ..., -3.0058,  3.3689,  0.9986],\n",
            "        [ 2.7405, -2.6262, -1.9813,  ..., -2.2797,  3.5461,  1.0027],\n",
            "        ...,\n",
            "        [ 0.8403, -1.0260, -1.0239,  ...,  0.5139, -0.3976,  1.2342],\n",
            "        [-0.7698,  2.7605,  2.5145,  ...,  1.4765, -1.4573, -2.1456],\n",
            "        [-0.9369,  2.7522,  2.5014,  ...,  1.6088, -1.5009, -2.1655]],\n",
            "       device='cuda:0', requires_grad=True)\n"
          ]
        }
      ],
      "source": [
        "embeddings = list(cbow_model.parameters())[1]\n",
        "print(\"Embedding:\")\n",
        "print(embeddings)"
      ]
    },
    {
      "cell_type": "code",
      "source": [
        "embed_matrix = cbow_model.embeddings.weight.detach().cpu().numpy()\n",
        "print(embed_matrix.shape)"
      ],
      "metadata": {
        "id": "1L9HteC81MGh",
        "colab": {
          "base_uri": "https://localhost:8080/"
        },
        "outputId": "54dd5acf-185f-4a7f-a5a0-10c9d8790df2"
      },
      "execution_count": 12,
      "outputs": [
        {
          "output_type": "stream",
          "name": "stdout",
          "text": [
            "(18061, 100)\n"
          ]
        }
      ]
    },
    {
      "cell_type": "code",
      "source": [
        "with open('/content/drive/MyDrive/NLPwithDeepLearning/Assignment-1/embeddings.txt', 'w') as f:\n",
        "  f.write(str(vocab_size))\n",
        "  f.write(' ')\n",
        "  f.write(str(embedding_dimension))\n",
        "  f.write('\\n')\n",
        "  for key in word2ix:\n",
        "    f.write(str(key))\n",
        "    f.write(' ')\n",
        "    id = word2ix[key]\n",
        "    for j in range(embedding_dimension):\n",
        "      f.write(str(embed_matrix[id][j]))\n",
        "      f.write(' ')\n",
        "    f.write('\\n')"
      ],
      "metadata": {
        "id": "mpZklcx-1MDl"
      },
      "execution_count": 13,
      "outputs": []
    },
    {
      "cell_type": "code",
      "source": [
        "!mkdir test_sets\n",
        "!cp /content/drive/MyDrive/NLPwithDeepLearning/Assignment-1/mp1_release/test_files/questions-words_headered.txt /content/test_sets/\n",
        "!cp /content/drive/MyDrive/NLPwithDeepLearning/Assignment-1/mp1_release/test_files/wordsim_similarity_goldstandard.txt /content/test_sets/"
      ],
      "metadata": {
        "id": "xxvLMIyQ5Izj"
      },
      "execution_count": 14,
      "outputs": []
    },
    {
      "cell_type": "code",
      "source": [
        "!python eval_embs.py --emb_file '/content/drive/MyDrive/NLPwithDeepLearning/Assignment-1/embeddings.txt'"
      ],
      "metadata": {
        "colab": {
          "base_uri": "https://localhost:8080/"
        },
        "id": "pJFrDj8w1MAg",
        "outputId": "be11dead-8ea2-4351-b3c2-b401a9584176"
      },
      "execution_count": 15,
      "outputs": [
        {
          "output_type": "stream",
          "name": "stdout",
          "text": [
            "Word Similarity Test Pearson Correlation: 0.37845984822247786\n",
            "Accuracy on Analogy Test: 0.062403697996918334\n"
          ]
        }
      ]
    },
    {
      "cell_type": "markdown",
      "source": [
        "# 1) Best Learning Rate and The Lowest Development Set Loss"
      ],
      "metadata": {
        "id": "mSSkrJOHfRpZ"
      }
    },
    {
      "cell_type": "code",
      "source": [
        "print(\"Best Learning Rate = \",checkpoint[\"learning_rate\"])\n",
        "print(\"Lowest Development Set Loss = \",checkpoint[\"lowest_dev_loss\"])"
      ],
      "metadata": {
        "id": "KcBmyJSY1L9c",
        "colab": {
          "base_uri": "https://localhost:8080/"
        },
        "outputId": "828c35fc-3bc9-413e-b9b5-b9fcd9c3fef8"
      },
      "execution_count": 16,
      "outputs": [
        {
          "output_type": "stream",
          "name": "stdout",
          "text": [
            "Best Learning Rate =  0.001\n",
            "Lowest Development Set Loss =  5.813960371861143\n"
          ]
        }
      ]
    },
    {
      "cell_type": "markdown",
      "source": [
        "#2(a). Cosine Similarity between pairs"
      ],
      "metadata": {
        "id": "pwDJ8PAOKagd"
      }
    },
    {
      "cell_type": "code",
      "source": [
        "from numpy import dot\n",
        "from numpy.linalg import norm\n",
        "\n",
        "def cos_sim(a,b):\n",
        "  sim = dot(a, b)/(norm(a)*norm(b))\n",
        "  return sim"
      ],
      "metadata": {
        "id": "mkL0bWhLFgGG"
      },
      "execution_count": 17,
      "outputs": []
    },
    {
      "cell_type": "code",
      "source": [
        "def stoi(key):\n",
        "  isKeyPresent = key in word2ix\n",
        "  if isKeyPresent == True:\n",
        "    return word2ix[key]\n",
        "  else:\n",
        "    return word2ix['[UNK]']"
      ],
      "metadata": {
        "id": "ytlUpl1qOECB"
      },
      "execution_count": 54,
      "outputs": []
    },
    {
      "cell_type": "code",
      "source": [
        "def get_embedding(a):\n",
        "  return embed_matrix[a]"
      ],
      "metadata": {
        "id": "sILG-qJkOuCP"
      },
      "execution_count": 19,
      "outputs": []
    },
    {
      "cell_type": "code",
      "source": [
        "def similarity_score(pair):\n",
        "  e1 = get_embedding(stoi(pair[0]))\n",
        "  e2 = get_embedding(stoi(pair[1]))\n",
        "\n",
        "  return cos_sim(e1, e2)"
      ],
      "metadata": {
        "id": "8yMtMVhZQCel"
      },
      "execution_count": 20,
      "outputs": []
    },
    {
      "cell_type": "code",
      "source": [
        "def compare_pairs(pair1, pair2):\n",
        "  s1 = similarity_score(pair1)\n",
        "  s2 = similarity_score(pair2)\n",
        "  print('Similarity score of ', pair1,' =',s1)\n",
        "  print('Similarity score of ', pair2,' =',s2)\n",
        "  if s1 > s2:\n",
        "    print(pair1, ' is closer')\n",
        "  elif s1 < s2:\n",
        "    print(pair2, ' is closer')\n",
        "  else:\n",
        "    print('both the pair are in similar cosine distance')"
      ],
      "metadata": {
        "id": "3jd90tt5RCLc"
      },
      "execution_count": 21,
      "outputs": []
    },
    {
      "cell_type": "code",
      "source": [
        "pair1 = ['cat', 'tiger']\n",
        "pair2 = ['plane', 'human']\n",
        "compare_pairs(pair1, pair2)"
      ],
      "metadata": {
        "colab": {
          "base_uri": "https://localhost:8080/"
        },
        "id": "lPqKRPFKM6c7",
        "outputId": "bf2a3ea1-b6ec-463c-b95b-3bddee218780"
      },
      "execution_count": 22,
      "outputs": [
        {
          "output_type": "stream",
          "name": "stdout",
          "text": [
            "Similarity score of  ['cat', 'tiger']  = 0.1782883\n",
            "Similarity score of  ['plane', 'human']  = 0.25194982\n",
            "['plane', 'human']  is closer\n"
          ]
        }
      ]
    },
    {
      "cell_type": "code",
      "source": [
        "pair1 = ['my', 'mine']\n",
        "pair2 = ['happy', 'human']\n",
        "compare_pairs(pair1, pair2)"
      ],
      "metadata": {
        "colab": {
          "base_uri": "https://localhost:8080/"
        },
        "id": "Abf79eoPT066",
        "outputId": "c6dd312f-f09c-4f3c-b777-240847a96234"
      },
      "execution_count": 23,
      "outputs": [
        {
          "output_type": "stream",
          "name": "stdout",
          "text": [
            "Similarity score of  ['my', 'mine']  = 0.47246733\n",
            "Similarity score of  ['happy', 'human']  = -0.04108724\n",
            "['my', 'mine']  is closer\n"
          ]
        }
      ]
    },
    {
      "cell_type": "code",
      "source": [
        "pair1 = ['happy', 'cat']\n",
        "pair2 = ['king', 'princess']\n",
        "compare_pairs(pair1, pair2)"
      ],
      "metadata": {
        "colab": {
          "base_uri": "https://localhost:8080/"
        },
        "id": "3VkqT3CpUA4p",
        "outputId": "4232b07e-36c1-43da-b87a-69949dd385ab"
      },
      "execution_count": 24,
      "outputs": [
        {
          "output_type": "stream",
          "name": "stdout",
          "text": [
            "Similarity score of  ['happy', 'cat']  = 0.094843715\n",
            "Similarity score of  ['king', 'princess']  = 0.29489377\n",
            "['king', 'princess']  is closer\n"
          ]
        }
      ]
    },
    {
      "cell_type": "code",
      "source": [
        "pair1 = ['ball', 'racket']\n",
        "pair2 = ['good', 'ugly']\n",
        "compare_pairs(pair1, pair2)"
      ],
      "metadata": {
        "colab": {
          "base_uri": "https://localhost:8080/"
        },
        "id": "kKs8q2bnUA1p",
        "outputId": "dd5cace7-266d-4232-ff5b-5e5f61c0b5fb"
      },
      "execution_count": 25,
      "outputs": [
        {
          "output_type": "stream",
          "name": "stdout",
          "text": [
            "Similarity score of  ['ball', 'racket']  = 0.212945\n",
            "Similarity score of  ['good', 'ugly']  = 0.14672194\n",
            "['ball', 'racket']  is closer\n"
          ]
        }
      ]
    },
    {
      "cell_type": "code",
      "source": [
        "pair1 = ['cat', 'racket']\n",
        "pair2 = ['good', 'bad']\n",
        "compare_pairs(pair1, pair2)"
      ],
      "metadata": {
        "colab": {
          "base_uri": "https://localhost:8080/"
        },
        "id": "mDIDCGIkUYn6",
        "outputId": "c26df168-56f9-47df-c141-62f989779142"
      },
      "execution_count": 26,
      "outputs": [
        {
          "output_type": "stream",
          "name": "stdout",
          "text": [
            "Similarity score of  ['cat', 'racket']  = 0.41509384\n",
            "Similarity score of  ['good', 'bad']  = 0.4965547\n",
            "['good', 'bad']  is closer\n"
          ]
        }
      ]
    },
    {
      "cell_type": "markdown",
      "source": [
        "#2(b). most similar word in the vocabulary with the vector (wb - wa + wc)"
      ],
      "metadata": {
        "id": "ut6lHaH2attl"
      }
    },
    {
      "cell_type": "code",
      "source": [
        "from numpy import dot\n",
        "from numpy.linalg import norm\n",
        "\n",
        "def cos_sim_mat_vec(a,b):\n",
        "  sim = dot(a, b)/(norm(a, axis=1)*norm(b))\n",
        "  return sim"
      ],
      "metadata": {
        "id": "Y_IIKIHp3cEF"
      },
      "execution_count": 27,
      "outputs": []
    },
    {
      "cell_type": "code",
      "source": [
        "def solve_analogy(w1, w2, w3):\n",
        "  e1 = get_embedding(stoi(w1))\n",
        "  e2 = get_embedding(stoi(w2))\n",
        "  e3 = get_embedding(stoi(w3))\n",
        "  target = e2 - e1 + e3\n",
        "  ind_close = np.argsort(-cos_sim_mat_vec(embed_matrix,target))[0]\n",
        "  key_list = list(word2ix.keys())\n",
        "  val_list = list(word2ix.values())\n",
        "  position = val_list.index(ind_close)\n",
        "  print('Closest one = ','[',w1,':',w2,',',w3,':',key_list[position],']')\n",
        "\n",
        "  ind_close = np.argsort(-cos_sim_mat_vec(embed_matrix,target))[1]\n",
        "  key_list = list(word2ix.keys())\n",
        "  val_list = list(word2ix.values())\n",
        "  position = val_list.index(ind_close)\n",
        "  print('Second Closest= ','[',w1,':',w2,',',w3,':',key_list[position],']')\n",
        "\n"
      ],
      "metadata": {
        "id": "zJ5XipEzUYkT"
      },
      "execution_count": 28,
      "outputs": []
    },
    {
      "cell_type": "code",
      "source": [
        "solve_analogy('king','queen', 'man')"
      ],
      "metadata": {
        "colab": {
          "base_uri": "https://localhost:8080/"
        },
        "id": "GTXbur-2G1x2",
        "outputId": "bd638642-6774-454e-cac8-84aa6ae3d732"
      },
      "execution_count": 29,
      "outputs": [
        {
          "output_type": "stream",
          "name": "stdout",
          "text": [
            "Closest one =  [ king : queen , man : man ]\n",
            "Second Closest=  [ king : queen , man : lady ]\n"
          ]
        }
      ]
    },
    {
      "cell_type": "code",
      "source": [
        "solve_analogy('king','queen', 'prince')"
      ],
      "metadata": {
        "colab": {
          "base_uri": "https://localhost:8080/"
        },
        "id": "i033bNAjG1u2",
        "outputId": "6d9ad5f8-e4b1-4219-8ef6-3d45f588eaa4"
      },
      "execution_count": 30,
      "outputs": [
        {
          "output_type": "stream",
          "name": "stdout",
          "text": [
            "Closest one =  [ king : queen , prince : prince ]\n",
            "Second Closest=  [ king : queen , prince : queen ]\n"
          ]
        }
      ]
    },
    {
      "cell_type": "code",
      "source": [
        "solve_analogy('king','man','queen')"
      ],
      "metadata": {
        "colab": {
          "base_uri": "https://localhost:8080/"
        },
        "id": "EvVYca65G1sI",
        "outputId": "bdd55a04-c564-4520-ff90-6964742c8068"
      },
      "execution_count": 31,
      "outputs": [
        {
          "output_type": "stream",
          "name": "stdout",
          "text": [
            "Closest one =  [ king : man , queen : man ]\n",
            "Second Closest=  [ king : man , queen : lady ]\n"
          ]
        }
      ]
    },
    {
      "cell_type": "code",
      "source": [
        "solve_analogy('woman', 'man', 'princess')"
      ],
      "metadata": {
        "colab": {
          "base_uri": "https://localhost:8080/"
        },
        "id": "hDRTFoChG1pb",
        "outputId": "95b22cc6-86eb-47d2-8086-a9cb076fb604"
      },
      "execution_count": 32,
      "outputs": [
        {
          "output_type": "stream",
          "name": "stdout",
          "text": [
            "Closest one =  [ woman : man , princess : princess ]\n",
            "Second Closest=  [ woman : man , princess : shogun ]\n"
          ]
        }
      ]
    },
    {
      "cell_type": "code",
      "source": [
        "solve_analogy('prince', 'princess', 'man')"
      ],
      "metadata": {
        "colab": {
          "base_uri": "https://localhost:8080/"
        },
        "id": "TS2w408QHO-a",
        "outputId": "5293ec5f-7212-43a6-bdc4-eb803585b9a1"
      },
      "execution_count": 33,
      "outputs": [
        {
          "output_type": "stream",
          "name": "stdout",
          "text": [
            "Closest one =  [ prince : princess , man : man ]\n",
            "Second Closest=  [ prince : princess , man : woman ]\n"
          ]
        }
      ]
    },
    {
      "cell_type": "markdown",
      "source": [
        "# 3(a). Word Similarity test"
      ],
      "metadata": {
        "id": "dGUX547OOEeo"
      }
    },
    {
      "cell_type": "code",
      "source": [
        "compare_pairs(['day', 'night'], ['dawn','plane'])"
      ],
      "metadata": {
        "colab": {
          "base_uri": "https://localhost:8080/"
        },
        "id": "Pvstfyd3G1mw",
        "outputId": "d37fce4d-077a-417e-f92c-4445c559ad97"
      },
      "execution_count": 34,
      "outputs": [
        {
          "output_type": "stream",
          "name": "stdout",
          "text": [
            "Similarity score of  ['day', 'night']  = 0.6989168\n",
            "Similarity score of  ['dawn', 'plane']  = -0.034828883\n",
            "['day', 'night']  is closer\n"
          ]
        }
      ]
    },
    {
      "cell_type": "code",
      "source": [
        "compare_pairs(['country', 'citizen'], ['village','office'])"
      ],
      "metadata": {
        "colab": {
          "base_uri": "https://localhost:8080/"
        },
        "id": "lnJE0kbfG1jN",
        "outputId": "b5cbc902-f4e3-4078-e55b-130cd20b072d"
      },
      "execution_count": 35,
      "outputs": [
        {
          "output_type": "stream",
          "name": "stdout",
          "text": [
            "Similarity score of  ['country', 'citizen']  = 0.49361527\n",
            "Similarity score of  ['village', 'office']  = 0.2638116\n",
            "['country', 'citizen']  is closer\n"
          ]
        }
      ]
    },
    {
      "cell_type": "code",
      "source": [
        "compare_pairs(['dawn', 'afternoon'], ['dawn','tomorrow'])"
      ],
      "metadata": {
        "colab": {
          "base_uri": "https://localhost:8080/"
        },
        "id": "0kAq0ejMG1g3",
        "outputId": "2cf8e0cf-25de-4c27-cc2b-16053586696d"
      },
      "execution_count": 36,
      "outputs": [
        {
          "output_type": "stream",
          "name": "stdout",
          "text": [
            "Similarity score of  ['dawn', 'afternoon']  = 0.35480067\n",
            "Similarity score of  ['dawn', 'tomorrow']  = 0.3302696\n",
            "['dawn', 'afternoon']  is closer\n"
          ]
        }
      ]
    },
    {
      "cell_type": "code",
      "source": [
        "compare_pairs(['hardware', 'mobile'], ['college','student'])"
      ],
      "metadata": {
        "colab": {
          "base_uri": "https://localhost:8080/"
        },
        "id": "Zjmm5Ea7tj38",
        "outputId": "10d5cbd1-1beb-478a-df2b-b82c328a748a"
      },
      "execution_count": 37,
      "outputs": [
        {
          "output_type": "stream",
          "name": "stdout",
          "text": [
            "Similarity score of  ['hardware', 'mobile']  = 0.14813052\n",
            "Similarity score of  ['college', 'student']  = 0.3277298\n",
            "['college', 'student']  is closer\n"
          ]
        }
      ]
    },
    {
      "cell_type": "code",
      "source": [
        "compare_pairs(['law', 'lawyer'], ['market','young'])"
      ],
      "metadata": {
        "colab": {
          "base_uri": "https://localhost:8080/"
        },
        "id": "9k9VWGtAtj0_",
        "outputId": "b1ba3919-3b4f-4746-e2bd-2afa56730ff1"
      },
      "execution_count": 38,
      "outputs": [
        {
          "output_type": "stream",
          "name": "stdout",
          "text": [
            "Similarity score of  ['law', 'lawyer']  = 0.109953426\n",
            "Similarity score of  ['market', 'young']  = -0.12075043\n",
            "['law', 'lawyer']  is closer\n"
          ]
        }
      ]
    },
    {
      "cell_type": "markdown",
      "source": [
        "# 3(b). Word Analogy test."
      ],
      "metadata": {
        "id": "Qup9Lsfa5bjG"
      }
    },
    {
      "cell_type": "code",
      "source": [
        "solve_analogy('country', 'citizen', 'planet')"
      ],
      "metadata": {
        "colab": {
          "base_uri": "https://localhost:8080/"
        },
        "id": "EDK60JPc5bMD",
        "outputId": "8d6e9d68-ad2a-4577-c798-945f673d5328"
      },
      "execution_count": 39,
      "outputs": [
        {
          "output_type": "stream",
          "name": "stdout",
          "text": [
            "Closest one =  [ country : citizen , planet : planet ]\n",
            "Second Closest=  [ country : citizen , planet : citizen ]\n"
          ]
        }
      ]
    },
    {
      "cell_type": "code",
      "source": [
        "solve_analogy('early','late','expensive')"
      ],
      "metadata": {
        "colab": {
          "base_uri": "https://localhost:8080/"
        },
        "id": "ewBGBsQs5bJC",
        "outputId": "5398cd1d-f223-4273-b19a-1af1bda426df"
      },
      "execution_count": 40,
      "outputs": [
        {
          "output_type": "stream",
          "name": "stdout",
          "text": [
            "Closest one =  [ early : late , expensive : expensive ]\n",
            "Second Closest=  [ early : late , expensive : ninety ]\n"
          ]
        }
      ]
    },
    {
      "cell_type": "code",
      "source": [
        "solve_analogy('deep', 'shallow', 'early')"
      ],
      "metadata": {
        "colab": {
          "base_uri": "https://localhost:8080/"
        },
        "id": "35QUne6r5bG0",
        "outputId": "e2390620-2b02-40a7-d455-8673be56ba23"
      },
      "execution_count": 41,
      "outputs": [
        {
          "output_type": "stream",
          "name": "stdout",
          "text": [
            "Closest one =  [ deep : shallow , early : early ]\n",
            "Second Closest=  [ deep : shallow , early : colonial ]\n"
          ]
        }
      ]
    },
    {
      "cell_type": "code",
      "source": [
        "solve_analogy('battery', 'light', 'engine')"
      ],
      "metadata": {
        "colab": {
          "base_uri": "https://localhost:8080/"
        },
        "id": "TrVkrX1m5bDs",
        "outputId": "0acacacf-9e4c-4bf8-8903-b4d8471c8ba9"
      },
      "execution_count": 42,
      "outputs": [
        {
          "output_type": "stream",
          "name": "stdout",
          "text": [
            "Closest one =  [ battery : light , engine : engine ]\n",
            "Second Closest=  [ battery : light , engine : light ]\n"
          ]
        }
      ]
    },
    {
      "cell_type": "code",
      "source": [
        "solve_analogy('leaf', 'tree', 'hand')"
      ],
      "metadata": {
        "colab": {
          "base_uri": "https://localhost:8080/"
        },
        "id": "BZX-bCTf5bBS",
        "outputId": "4c18c203-fa9c-4d94-b613-e181f572a44a"
      },
      "execution_count": 43,
      "outputs": [
        {
          "output_type": "stream",
          "name": "stdout",
          "text": [
            "Closest one =  [ leaf : tree , hand : hand ]\n",
            "Second Closest=  [ leaf : tree , hand : ear ]\n"
          ]
        }
      ]
    },
    {
      "cell_type": "markdown",
      "source": [
        "#4)Evaluating Embedding on test files"
      ],
      "metadata": {
        "id": "vPtaDB-R-c8o"
      }
    },
    {
      "cell_type": "code",
      "source": [
        "!python eval_embs.py --emb_file '/content/drive/MyDrive/NLPwithDeepLearning/Assignment-1/embeddings.txt'"
      ],
      "metadata": {
        "colab": {
          "base_uri": "https://localhost:8080/"
        },
        "id": "C0-kx39R-cke",
        "outputId": "2bc49979-62ec-438b-ebaa-196afd20d03d"
      },
      "execution_count": 44,
      "outputs": [
        {
          "output_type": "stream",
          "name": "stdout",
          "text": [
            "Word Similarity Test Pearson Correlation: 0.37845984822247786\n",
            "Accuracy on Analogy Test: 0.062403697996918334\n"
          ]
        }
      ]
    },
    {
      "cell_type": "markdown",
      "source": [
        "#Extra Credit: Projection on 2D"
      ],
      "metadata": {
        "id": "BvXn-qvTAzho"
      }
    },
    {
      "cell_type": "code",
      "source": [
        "words_to_print = ['horse', 'cat', 'dog', 'I', 'he', 'she', 'it', 'her', 'his', 'our', 'we', 'in', 'on',\n",
        "                  'from', 'to', 'at', 'by', 'man', 'woman', 'boy', 'girl', 'king', 'queen', 'prince',\n",
        "                  'princess']\n",
        "# print(len(words_to_print))\n",
        "indices = np.zeros(len(words_to_print))\n",
        "for i in range(indices.shape[0]):\n",
        "  # print(words_to_print[i])\n",
        "  indices[i] = stoi(words_to_print[i])\n",
        "indices = indices.astype('int32')\n",
        "embed2_matrix = embed_matrix[indices,:]\n",
        "key_list = list(word2ix.keys())\n",
        "key_list2 = []\n",
        "for i in range(indices.shape[0]):\n",
        "  key_list2.append(key_list[indices[i]])\n",
        "# print(key_list2)"
      ],
      "metadata": {
        "id": "yihWRl8cUdrb"
      },
      "execution_count": 61,
      "outputs": []
    },
    {
      "cell_type": "code",
      "source": [
        "print(embed2_matrix.shape)"
      ],
      "metadata": {
        "colab": {
          "base_uri": "https://localhost:8080/"
        },
        "id": "lUsnDVDlZIB0",
        "outputId": "fcddf847-b96c-41e7-eb59-1dc69f7db17c"
      },
      "execution_count": 63,
      "outputs": [
        {
          "output_type": "stream",
          "name": "stdout",
          "text": [
            "(25, 100)\n"
          ]
        }
      ]
    },
    {
      "cell_type": "code",
      "source": [
        "import plotly.express as px\n",
        "from sklearn.decomposition import PCA\n",
        "\n",
        "pca = PCA(n_components=2)\n",
        "embed2_matrix = pca.fit_transform(embed2_matrix)\n",
        "\n",
        "x_coords = embed2_matrix[:, 0]\n",
        "y_coords = embed2_matrix[:, 1]\n",
        "# display scatter plot\n",
        "plt.scatter(x_coords, y_coords)\n",
        "\n",
        "for label, x, y in zip(words_to_print, x_coords, y_coords):\n",
        "    plt.annotate(label, xy=(x, y), xytext=(0, 0), textcoords='offset points')\n",
        "plt.xlim(x_coords.min()+0.00005, x_coords.max()+0.00005)\n",
        "plt.ylim(y_coords.min()+0.00005, y_coords.max()+0.00005)\n",
        "plt.show()"
      ],
      "metadata": {
        "colab": {
          "base_uri": "https://localhost:8080/",
          "height": 441
        },
        "id": "fQ2PXV_laPr6",
        "outputId": "53fb676a-3376-4a63-f91c-7b3220b1dace"
      },
      "execution_count": 64,
      "outputs": [
        {
          "data": {
            "image/png": "[encoded data removed]",
            "text/plain": [
              "<Figure size 640x480 with 1 Axes>"
            ]
          },
          "metadata": {},
          "output_type": "display_data"
        }
      ]
    }
  ],
  "metadata": {
    "accelerator": "GPU",
    "colab": {
      "provenance": [],
      "gpuType": "T4",
      "toc_visible": true
    },
    "kernelspec": {
      "display_name": "Python 3",
      "name": "python3"
    },
    "language_info": {
      "name": "python"
    }
  },
  "nbformat": 4,
  "nbformat_minor": 0
}